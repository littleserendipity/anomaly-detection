{
 "cells": [
  {
   "cell_type": "code",
   "execution_count": 0,
   "metadata": {
    "colab": {},
    "colab_type": "code",
    "id": "2sFpNgBciqn2"
   },
   "outputs": [],
   "source": [
    "from __future__ import print_function\n",
    "\n",
    "from models.ResNet_3D.model import generate_model\n",
    "from models.ResNet_3D.opts import create_args\n",
    "from models.ResNet_3D.mean import get_mean, get_std\n",
    "\n",
    "import torch\n",
    "\n",
    "import pandas as pd\n",
    "import matplotlib.pyplot as plt\n",
    "import numpy as np\n",
    "from scripts.read_video import generate_block\n",
    "import time\n",
    "import os\n",
    "import argparse"
   ]
  },
  {
   "cell_type": "code",
   "execution_count": 0,
   "metadata": {
    "colab": {},
    "colab_type": "code",
    "id": "VjOFm2XVi2fd"
   },
   "outputs": [],
   "source": [
    "def find_length(filename, seg_length=1):\n",
    "    \"\"\"\n",
    "    Function to find the length of the video in terms of specified segments.\n",
    "    \"\"\"\n",
    "    return sum(1 for _ in generate_block(filename, 1))"
   ]
  },
  {
   "cell_type": "code",
   "execution_count": 0,
   "metadata": {
    "colab": {},
    "colab_type": "code",
    "id": "lTTdwJRgi5-9"
   },
   "outputs": [],
   "source": [
    "def generate_features(resnet, filename):\n",
    "    \"\"\"\n",
    "    Function to process the current video file and generate the c3d fetures.\n",
    "    \n",
    "    Parameters\n",
    "    resnet          :torch.nn.Module\n",
    "                     The c3d feature extraction model.\n",
    "    filename        :str\n",
    "                     The filename of the videos to return the features\n",
    "    \n",
    "    Returns\n",
    "    -------\n",
    "    features        :numpy.array\n",
    "                     The features of the video in the required shape.\n",
    "    \"\"\"\n",
    "    total_length = find_length(filename)\n",
    "    block = generate_block(filename, 1)\n",
    "    start_time = time.time()\n",
    "    feature_arr = []\n",
    "    for i, curr_block in enumerate(block):\n",
    "        print(\"{}/{}\".format(i+1, total_length), sep='\\r', end='\\r')\n",
    "        features = resnet(curr_block['block'])\n",
    "        features = (features - features.mean())/(features.max() - features.mean())\n",
    "        feature_arr.append(features.cpu().detach().numpy())\n",
    "        del features\n",
    "    print(\"\")\n",
    "    total_time = time.time()-start_time\n",
    "    features = np.rollaxis(np.array(feature_arr), 1 )[0]\n",
    "    return features"
   ]
  },
  {
   "cell_type": "code",
   "execution_count": 0,
   "metadata": {
    "colab": {},
    "colab_type": "code",
    "id": "LNuloU0Ii7l-"
   },
   "outputs": [],
   "source": [
    "def iterate_folder(base_path, c3d):\n",
    "    \"\"\"\n",
    "    Function to iterate over the video files in the given folder\n",
    "    and call the function to generate the c3d features and write the\n",
    "    features in a csv file.\n",
    "    Parameters\n",
    "    ----------\n",
    "    base_path       :str\n",
    "                     Path of the folder containing the video files.\n",
    "    resnet          :torch.nn.Module\n",
    "                     The resnet feature extraction model.\n",
    "    Returns\n",
    "    -------\n",
    "    None\n",
    "    \"\"\"\n",
    "    start_time = time.time()\n",
    "    total_files = len(os.listdir(base_path))\n",
    "    category = base_path.split('/')[-1]\n",
    "    print(\"Calculating features for :\", category)\n",
    "\n",
    "    for i, vid_file in enumerate(os.listdir(base_path)):\n",
    "        features = generate_features(c3d, os.path.join(base_path, vid_file))\n",
    "        mult = len(features)//32\n",
    "        feature_norm_arr = []\n",
    "        for i in range(32):\n",
    "            sub_arr = np.linalg.norm(features[i*mult:(i+1)*mult], axis=0)\n",
    "            feature_norm_arr.append(sub_arr)\n",
    "        folder_path = os.path.join(\"results\", \"features\", category)\n",
    "        file_path = os.path.join(folder_path, vid_file.split('.')[0]+'.csv')\n",
    "        if not(os.path.exists(folder_path)):\n",
    "            os.mkdir(folder_path)\n",
    "        pd.DataFrame(np.array(feature_norm_arr, dtype='float16'), index=None).to_csv(file_path, header=False)\n",
    "                     \n",
    "        print(\"{}/{} completed\".format(i+1, total_files), sep='\\r', end='\\r')"
   ]
  },
  {
   "cell_type": "code",
   "execution_count": 0,
   "metadata": {
    "colab": {},
    "colab_type": "code",
    "id": "wLDyCn5vi9n3"
   },
   "outputs": [],
   "source": [
    "opt = create_args(model_name = 'resnext', model_depth=101, \\\n",
    "                  model='/content/drive/My Drive/PretrainedModels/resnext-101-kinetics.pth')\n",
    "opt.mean = get_mean()\n",
    "opt.std = get_std()\n",
    "opt.arch = '{}-{}'.format(opt.model_name, opt.model_depth)\n",
    "opt.sample_size = 112\n",
    "opt.sample_duration = 16\n",
    "opt.n_classes = 400"
   ]
  },
  {
   "cell_type": "code",
   "execution_count": 21,
   "metadata": {
    "colab": {
     "base_uri": "https://localhost:8080/",
     "height": 34
    },
    "colab_type": "code",
    "id": "Lzl-8wGejTJO",
    "outputId": "ce4cec24-4e5e-4e03-9e7a-fb3b1a78b32a"
   },
   "outputs": [
    {
     "name": "stdout",
     "output_type": "stream",
     "text": [
      "loading model /content/drive/My Drive/PretrainedModels/resnext-101-kinetics.pth\n"
     ]
    }
   ],
   "source": [
    "model = generate_model(opt)\n",
    "print('loading model {}'.format(opt.model))\n",
    "model_data = torch.load(opt.model)\n",
    "assert opt.arch == model_data['arch']\n",
    "model.load_state_dict(model_data['state_dict'],strict=False)\n",
    "model = model.eval()"
   ]
  },
  {
   "cell_type": "code",
   "execution_count": 45,
   "metadata": {
    "colab": {
     "base_uri": "https://localhost:8080/",
     "height": 86
    },
    "colab_type": "code",
    "id": "cFiKJvzsjZAH",
    "outputId": "9c7c47ba-b599-4840-97ab-fcc5f5477d77"
   },
   "outputs": [
    {
     "name": "stdout",
     "output_type": "stream",
     "text": [
      "Calculating features for : \n",
      "42\n",
      "42/42\n",
      "Time taken =  6.183789968490601\n"
     ]
    }
   ],
   "source": [
    "#parser = argparse.ArgumentParser()\n",
    "#parser.add_argument(\"--base_path\", type=str, default='../SampleVideos/videos')\n",
    "#parser.add_argument(\"--c3d_weights\", type=str, default='../weights/c3d.pickle')\n",
    "#args = parser.parse_args()\n",
    "base_path = 'SampleVideos/videos/'#args.base_path\n",
    "iterate_folder(base_path, model)"
   ]
  }
 ],
 "metadata": {
  "accelerator": "GPU",
  "colab": {
   "name": "Untitled9.ipynb",
   "provenance": [],
   "version": "0.3.2"
  },
  "kernelspec": {
   "display_name": "Python [default]",
   "language": "python",
   "name": "python3"
  },
  "language_info": {
   "codemirror_mode": {
    "name": "ipython",
    "version": 3
   },
   "file_extension": ".py",
   "mimetype": "text/x-python",
   "name": "python",
   "nbconvert_exporter": "python",
   "pygments_lexer": "ipython3",
   "version": "3.5.6"
  }
 },
 "nbformat": 4,
 "nbformat_minor": 1
}
