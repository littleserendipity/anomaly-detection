{
 "cells": [
  {
   "cell_type": "code",
   "execution_count": 14,
   "metadata": {},
   "outputs": [],
   "source": [
    "from scipy.io import loadmat"
   ]
  },
  {
   "cell_type": "code",
   "execution_count": 3,
   "metadata": {},
   "outputs": [],
   "source": [
    "import numpy as np"
   ]
  },
  {
   "cell_type": "code",
   "execution_count": 4,
   "metadata": {},
   "outputs": [],
   "source": [
    "import torch\n",
    "from torchvision import models\n",
    "import torch.nn as nn\n",
    "from torchvision import transforms, datasets\n",
    "import os\n",
    "import torch.nn.functional as F\n",
    "import torch.optim as optim\n",
    "import time"
   ]
  },
  {
   "cell_type": "code",
   "execution_count": 5,
   "metadata": {},
   "outputs": [],
   "source": [
    "def conv_dict(dict2):\n",
    "    i = 0\n",
    "    dict = {}\n",
    "    for i in range(len(dict2)):\n",
    "        if str(i) in dict2:\n",
    "            if dict2[str(i)].shape == (0, 0):\n",
    "                dict[str(i)] = dict2[str(i)]\n",
    "            else:\n",
    "                weights = dict2[str(i)][0]\n",
    "                weights2 = []\n",
    "                for weight in weights:\n",
    "                    if weight.shape in [(1, x) for x in range(0, 5000)]:\n",
    "                        weights2.append(weight[0])\n",
    "                    else:\n",
    "                        weights2.append(weight)\n",
    "                dict[str(i)] = weights2\n",
    "    return dict"
   ]
  },
  {
   "cell_type": "code",
   "execution_count": 6,
   "metadata": {},
   "outputs": [],
   "source": [
    "def load_weights(weight_path):  # Function to load the model weights\n",
    "    dict2 = loadmat(weight_path)\n",
    "    dict1 = conv_dict(dict2)\n",
    "    return dict1"
   ]
  },
  {
   "cell_type": "code",
   "execution_count": 7,
   "metadata": {},
   "outputs": [],
   "source": [
    "def get_weight(weights, layer):\n",
    "    weight = np.array(weights[layer])\n",
    "    shape = weight[0].shape\n",
    "    weight = np.reshape(weight[0], (shape[1], shape[0]))\n",
    "    weight = torch.tensor(weight)\n",
    "    return weight"
   ]
  },
  {
   "cell_type": "code",
   "execution_count": 8,
   "metadata": {},
   "outputs": [],
   "source": [
    "weights = load_weights('./weights_L1L2.mat')"
   ]
  },
  {
   "cell_type": "code",
   "execution_count": 9,
   "metadata": {},
   "outputs": [
    {
     "data": {
      "text/plain": [
       "torch.Size([1, 32])"
      ]
     },
     "execution_count": 9,
     "metadata": {},
     "output_type": "execute_result"
    }
   ],
   "source": [
    "get_weight(weights, '4').shape"
   ]
  },
  {
   "cell_type": "code",
   "execution_count": 10,
   "metadata": {},
   "outputs": [],
   "source": [
    "layer1 = nn.Linear(4096, 512)\n",
    "layer1.weight.data = get_weight(weights, '0')\n",
    "\n",
    "layer2 = nn.Linear(512, 32)\n",
    "layer2.weight.data = get_weight(weights, '2')\n",
    "\n",
    "layer3 = nn.Linear(32, 1)\n",
    "layer3.weight.data = get_weight(weights, '4')"
   ]
  },
  {
   "cell_type": "code",
   "execution_count": 11,
   "metadata": {},
   "outputs": [],
   "source": [
    "class anomaly_ann(nn.Module):\n",
    "    def __init__(self):\n",
    "        super(anomaly_ann, self).__init__()\n",
    "        self.layer1 = nn.Linear(4096, 512)\n",
    "        self.layer1.weight.data = get_weight(weights, '0')\n",
    "\n",
    "        self.layer2 = nn.Linear(512, 32)\n",
    "        self.layer2.weight.data = get_weight(weights, '2')\n",
    "\n",
    "        self.layer3 = nn.Linear(32, 1)\n",
    "        self.layer3.weight.data = get_weight(weights, '4')\n",
    "        \n",
    "    def forward(self, x):\n",
    "        #print(\"x\", x.shape)\n",
    "        out = self.layer1(x)\n",
    "        out = nn.ReLU(out)\n",
    "        #print(\"after vgg\", out.shape)\n",
    "        out = self.layer2(out)\n",
    "        #print(\"after transpose\", out.shape)\n",
    "        out = self.layer3(out)\n",
    "        #print(\"after output layer\", out.shape)\n",
    "        return nn.Sigmoid(out)"
   ]
  },
  {
   "cell_type": "code",
   "execution_count": 12,
   "metadata": {},
   "outputs": [],
   "source": [
    "net = anomaly_ann()"
   ]
  },
  {
   "cell_type": "code",
   "execution_count": 13,
   "metadata": {},
   "outputs": [
    {
     "data": {
      "text/plain": [
       "anomaly_ann(\n",
       "  (layer1): Linear(in_features=4096, out_features=512, bias=True)\n",
       "  (layer2): Linear(in_features=512, out_features=32, bias=True)\n",
       "  (layer3): Linear(in_features=32, out_features=1, bias=True)\n",
       ")"
      ]
     },
     "execution_count": 13,
     "metadata": {},
     "output_type": "execute_result"
    }
   ],
   "source": [
    "net"
   ]
  }
 ],
 "metadata": {
  "kernelspec": {
   "display_name": "Python [conda env:pytorch]",
   "language": "python",
   "name": "conda-env-pytorch-py"
  },
  "language_info": {
   "codemirror_mode": {
    "name": "ipython",
    "version": 3
   },
   "file_extension": ".py",
   "mimetype": "text/x-python",
   "name": "python",
   "nbconvert_exporter": "python",
   "pygments_lexer": "ipython3",
   "version": "3.5.6"
  }
 },
 "nbformat": 4,
 "nbformat_minor": 2
}
