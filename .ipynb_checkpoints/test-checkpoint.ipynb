{
 "cells": [
  {
   "cell_type": "code",
   "execution_count": null,
   "metadata": {},
   "outputs": [],
   "source": [
    "import torch\n",
    "\n",
    "from models.anomaly_detector import anomaly_detector\n",
    "from scripts.read_video import generate_block"
   ]
  },
  {
   "cell_type": "code",
   "execution_count": 1,
   "metadata": {},
   "outputs": [
    {
     "ename": "ImportError",
     "evalue": "No module named 'mysql'",
     "output_type": "error",
     "traceback": [
      "\u001b[0;31m---------------------------------------------------------------------------\u001b[0m",
      "\u001b[0;31mImportError\u001b[0m                               Traceback (most recent call last)",
      "\u001b[0;32m<ipython-input-1-fe0042be11a2>\u001b[0m in \u001b[0;36m<module>\u001b[0;34m()\u001b[0m\n\u001b[0;32m----> 1\u001b[0;31m \u001b[0;32mfrom\u001b[0m \u001b[0mmysql\u001b[0m \u001b[0;32mimport\u001b[0m \u001b[0mconnector\u001b[0m\u001b[0;34m\u001b[0m\u001b[0m\n\u001b[0m",
      "\u001b[0;31mImportError\u001b[0m: No module named 'mysql'"
     ]
    }
   ],
   "source": [
    "from mysql import connector"
   ]
  },
  {
   "cell_type": "code",
   "execution_count": null,
   "metadata": {},
   "outputs": [],
   "source": []
  },
  {
   "cell_type": "code",
   "execution_count": null,
   "metadata": {},
   "outputs": [],
   "source": [
    "def process_score(score):\n",
    "        threshold = 0.6\n",
    "        print(\"A score of {} has been recorded to the database\".format(score))\n",
    "        if(score>threshold):\n",
    "            print(\"Attention! Notification send to user!!\")"
   ]
  },
  {
   "cell_type": "code",
   "execution_count": null,
   "metadata": {},
   "outputs": [],
   "source": [
    "class db:\n",
    "    def __init__(self):\n",
    "        mydb = mysql.connector.connect(\n",
    "                                          host=\"localhost\",\n",
    "                                          user=\"arundhati\",\n",
    "                                          passwd=\"arundhati\",\n",
    "                                          database=\"user\"\n",
    "                                        )\n",
    "        self.mycursor = mydb.cursor()\n",
    "    def push(self, args):\n",
    "        query = \"INSERT INTO anomaly(timestamp, score) \" \\\n",
    "                \"VALUES(%s,%s)\"\n",
    "        try:\n",
    "            self.mycursor.execute(query, args)\n",
    "            mydb.commit()\n",
    "            if(verbose):\n",
    "                print \"Data committed\"\n",
    "        except:\n",
    "            if(verbose):\n",
    "                print \"Error\"\n",
    "            mydb.rollback()"
   ]
  }
 ],
 "metadata": {
  "kernelspec": {
   "display_name": "Python [conda env:pytorch]",
   "language": "python",
   "name": "conda-env-pytorch-py"
  },
  "language_info": {
   "codemirror_mode": {
    "name": "ipython",
    "version": 3
   },
   "file_extension": ".py",
   "mimetype": "text/x-python",
   "name": "python",
   "nbconvert_exporter": "python",
   "pygments_lexer": "ipython3",
   "version": "3.5.6"
  }
 },
 "nbformat": 4,
 "nbformat_minor": 2
}
